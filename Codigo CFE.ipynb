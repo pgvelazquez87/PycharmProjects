{
 "cells": [
  {
   "cell_type": "code",
   "execution_count": 125,
   "metadata": {},
   "outputs": [],
   "source": [
    "import pandas as pd\n",
    "import numpy as np\n",
    "import os"
   ]
  },
  {
   "cell_type": "code",
   "execution_count": 164,
   "metadata": {},
   "outputs": [
    {
     "data": {
      "text/plain": [
       "267"
      ]
     },
     "execution_count": 164,
     "metadata": {},
     "output_type": "execute_result"
    }
   ],
   "source": [
    "actual = '001520'\n",
    "lectura_actual = int(actual.lstrip('0'))\n",
    "anterior = '001253'\n",
    "lectura_anterior = int(anterior.lstrip('0'))\n",
    "energia = lectura_actual - lectura_anterior\n",
    "energia"
   ]
  },
  {
   "cell_type": "code",
   "execution_count": 165,
   "metadata": {},
   "outputs": [],
   "source": [
    "# Construyo el diccionario con los costos por kWh y los limites\n",
    "# de la tarifa Basica, Intermedia y Alta\n",
    "dict_01 = {\n",
    "    \"Enero\": [0.796, 0.960, 2.813, 150, 150],\n",
    "    \"Febrero\": [0.799, 0.964, 2.824, 150, 150],\n",
    "    \"Marzo\": [0.802, 0.968, 2.835, 150, 150],\n",
    "    \"Abril\": [0.805, 0.972, 2.846, 150, 150],\n",
    "    \"Mayo\": [0.808, 0.976, 2.857, 150, 150],\n",
    "    \"Junio\": [0.811, 0.980, 2.868, 150, 150],\n",
    "    \"Julio\": [0.814, 0.984, 2.879, 150, 150],\n",
    "    \"Agosto\": [0.817, 0.988, 2.89, 150, 150],\n",
    "    \"Septiembre\": [0.820, 0.992, 2.901, 150, 150],\n",
    "    \"Octubre\": [0.823, 0.996, 2.912, 150, 150],\n",
    "    \"Noviembre\": [0.826, 1.000, 2.923, 150, 150],\n",
    "    \"Diciembre\": [0.829, 1.004, 2.934, 150, 150],\n",
    "}\n",
    "\n",
    "\n",
    "### AGREGAR EL DICCIONARIO DE LAS TARIFAS DE LUZ DE LAS DEMAS REGIONES"
   ]
  },
  {
   "cell_type": "code",
   "execution_count": 166,
   "metadata": {},
   "outputs": [],
   "source": [
    "# Definir el diccionario que usare y las variables relacionadas\n",
    "tarifa = str('01')\n",
    "# IMAGINAR QUE SE RECIBE LA INFORMACION DE LA FECHA DE CORTE Y ADELANTAR LOS DOS MESES PARA HACER LA ESTIMACION DE CUANTO PAGARIAS\n",
    "mes = str('Agosto')\n",
    "\n",
    "def tarifa(tarifa = tarifa, mes = mes):\n",
    "    diccionario = 'dict_'+tarifa\n",
    "    tar_basica = globals()[diccionario][mes][0]\n",
    "    tar_intermedia = globals()[diccionario][mes][1]\n",
    "    tar_exc = globals()[diccionario][mes][2]\n",
    "    basico = globals()[diccionario][mes][3]\n",
    "    intermedio = globals()[diccionario][mes][4]\n",
    "    return tar_basica, tar_intermedia, tar_exc, basico, intermedio\n",
    "\n",
    "# Estimo las variables que utilizare para calcular el precio\n",
    "tar_basica = tarifa()[0]\n",
    "tar_inter = tarifa()[1] \n",
    "tar_exc = tarifa()[2]\n",
    "basico = tarifa()[3]\n",
    "intermedio = basico + tarifa()[4]"
   ]
  },
  {
   "cell_type": "code",
   "execution_count": 167,
   "metadata": {},
   "outputs": [],
   "source": [
    "def precio(energia = energia, basico = basico, intermedio = intermedio, tar_basica = tar_basica, \n",
    "           tar_inter=tar_inter, tar_exc = tar_exc):\n",
    "    resultado = None\n",
    "    # AGREGAR OTRO IF QUE CONTEMPLE EL MINIMO Y LA TARIFA DE ALTO CONSUMO\n",
    "    if energia < basico:\n",
    "        resultado = energia * tar_basica\n",
    "    else:\n",
    "        if energia > basico and energia < intermedio:\n",
    "            resultado = (basico*tar_basica) + (energia-basico)*tar_inter\n",
    "        else:\n",
    "            if energia > intermedio:\n",
    "                resultado = (basico*tar_basica) + (intermedio-basico)*tar_inter + (energia-intermedio)*tar_exc\n",
    "    return resultado"
   ]
  },
  {
   "cell_type": "code",
   "execution_count": 168,
   "metadata": {},
   "outputs": [
    {
     "data": {
      "text/plain": [
       "238.15"
      ]
     },
     "execution_count": 168,
     "metadata": {},
     "output_type": "execute_result"
    }
   ],
   "source": [
    "precio_energia = precio()\n",
    "np.round(precio_energia, 2)"
   ]
  },
  {
   "cell_type": "code",
   "execution_count": 169,
   "metadata": {},
   "outputs": [
    {
     "data": {
      "text/plain": [
       "276.25"
      ]
     },
     "execution_count": 169,
     "metadata": {},
     "output_type": "execute_result"
    }
   ],
   "source": [
    "IVA = 1.16\n",
    "precio_total = precio_energia * IVA\n",
    "np.round(precio_total, 2)"
   ]
  },
  {
   "cell_type": "code",
   "execution_count": null,
   "metadata": {},
   "outputs": [],
   "source": []
  },
  {
   "cell_type": "code",
   "execution_count": null,
   "metadata": {},
   "outputs": [],
   "source": []
  }
 ],
 "metadata": {
  "kernelspec": {
   "display_name": "Python 3",
   "language": "python",
   "name": "python3"
  },
  "language_info": {
   "codemirror_mode": {
    "name": "ipython",
    "version": 3
   },
   "file_extension": ".py",
   "mimetype": "text/x-python",
   "name": "python",
   "nbconvert_exporter": "python",
   "pygments_lexer": "ipython3",
   "version": "3.7.4"
  }
 },
 "nbformat": 4,
 "nbformat_minor": 2
}
